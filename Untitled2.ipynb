{
 "cells": [
  {
   "cell_type": "code",
   "execution_count": 1,
   "metadata": {
    "colab": {
     "base_uri": "https://localhost:8080/",
     "height": 122
    },
    "colab_type": "code",
    "id": "uz9MVxUDdCHm",
    "outputId": "23d9df8f-39e5-43a8-b1f7-275eca225641"
   },
   "outputs": [
    {
     "name": "stdout",
     "output_type": "stream",
     "text": [
      "Go to this URL in a browser: https://accounts.google.com/o/oauth2/auth?client_id=947318989803-6bn6qk8qdgf4n4g3pfee6491hc0brc4i.apps.googleusercontent.com&redirect_uri=urn%3aietf%3awg%3aoauth%3a2.0%3aoob&response_type=code&scope=email%20https%3a%2f%2fwww.googleapis.com%2fauth%2fdocs.test%20https%3a%2f%2fwww.googleapis.com%2fauth%2fdrive%20https%3a%2f%2fwww.googleapis.com%2fauth%2fdrive.photos.readonly%20https%3a%2f%2fwww.googleapis.com%2fauth%2fpeopleapi.readonly\n",
      "\n",
      "Enter your authorization code:\n",
      "··········\n",
      "Mounted at /content/drive\n"
     ]
    }
   ],
   "source": [
    "from google.colab import drive\n",
    "drive.mount('/content/drive')"
   ]
  },
  {
   "cell_type": "code",
   "execution_count": 3,
   "metadata": {
    "colab": {
     "base_uri": "https://localhost:8080/",
     "height": 85
    },
    "colab_type": "code",
    "id": "DQaFTIGudvXv",
    "outputId": "9b5a5891-9595-4d28-b20e-7b280781dda8"
   },
   "outputs": [
    {
     "name": "stdout",
     "output_type": "stream",
     "text": [
      "Collecting pydub\n",
      "  Downloading https://files.pythonhosted.org/packages/7b/d1/fbfa79371a8cd9bb15c2e3c480d7e6e340ed5cc55005174e16f48418333a/pydub-0.24.1-py2.py3-none-any.whl\n",
      "Installing collected packages: pydub\n",
      "Successfully installed pydub-0.24.1\n"
     ]
    }
   ],
   "source": [
    "!pip install pydub"
   ]
  },
  {
   "cell_type": "code",
   "execution_count": 4,
   "metadata": {
    "colab": {
     "base_uri": "https://localhost:8080/",
     "height": 34
    },
    "colab_type": "code",
    "id": "yAxrwdx7ddea",
    "outputId": "8a0d94f9-44eb-4a94-d5c9-fba9a48fb394"
   },
   "outputs": [
    {
     "name": "stderr",
     "output_type": "stream",
     "text": [
      "Using TensorFlow backend.\n"
     ]
    }
   ],
   "source": [
    "import numpy as np\n",
    "import pandas as pd\n",
    "import shutil\n",
    "import os\n",
    "import librosa.display\n",
    "import librosa\n",
    "import matplotlib.pyplot as plt\n",
    "from pydub import AudioSegment\n",
    "from sklearn.model_selection import train_test_split\n",
    "from keras.utils import to_categorical\n",
    "import keras\n",
    "from keras.models import Sequential, Model\n",
    "from keras.layers import Input, Dense, Bidirectional, LSTM, Dropout, Activation, GRU\n",
    "from keras.layers import Conv2D, concatenate, MaxPooling2D, Flatten, Embedding, Lambda\n",
    "\n",
    "\n",
    "from keras.callbacks import ModelCheckpoint, TensorBoard, ReduceLROnPlateau\n",
    "from keras import backend as K\n",
    "from keras.utils import np_utils\n",
    "from keras.optimizers import Adam, RMSprop\n",
    "\n",
    "from keras import regularizers"
   ]
  },
  {
   "cell_type": "code",
   "execution_count": 0,
   "metadata": {
    "colab": {},
    "colab_type": "code",
    "id": "Il4fMvHYdeZU"
   },
   "outputs": [],
   "source": [
    "final_data = pd.read_csv('/content/drive/My Drive/Data/updated_metadata.csv')"
   ]
  },
  {
   "cell_type": "code",
   "execution_count": 0,
   "metadata": {
    "colab": {},
    "colab_type": "code",
    "id": "JXZ1JrLydp0A"
   },
   "outputs": [],
   "source": [
    "final_data = final_data.loc[:, ~final_data.columns.str.contains('^Unnamed')]"
   ]
  },
  {
   "cell_type": "code",
   "execution_count": 7,
   "metadata": {
    "colab": {
     "base_uri": "https://localhost:8080/",
     "height": 204
    },
    "colab_type": "code",
    "id": "YkgcEIkIdr2h",
    "outputId": "24376b3a-b892-4155-d22c-f6ec9cdc6e84"
   },
   "outputs": [
    {
     "data": {
      "text/html": [
       "<div>\n",
       "<style scoped>\n",
       "    .dataframe tbody tr th:only-of-type {\n",
       "        vertical-align: middle;\n",
       "    }\n",
       "\n",
       "    .dataframe tbody tr th {\n",
       "        vertical-align: top;\n",
       "    }\n",
       "\n",
       "    .dataframe thead th {\n",
       "        text-align: right;\n",
       "    }\n",
       "</style>\n",
       "<table border=\"1\" class=\"dataframe\">\n",
       "  <thead>\n",
       "    <tr style=\"text-align: right;\">\n",
       "      <th></th>\n",
       "      <th>filename</th>\n",
       "      <th>target</th>\n",
       "      <th>folder</th>\n",
       "      <th>dirname</th>\n",
       "    </tr>\n",
       "  </thead>\n",
       "  <tbody>\n",
       "    <tr>\n",
       "      <th>0</th>\n",
       "      <td>23.wav</td>\n",
       "      <td>1</td>\n",
       "      <td>C</td>\n",
       "      <td>C/23.wav</td>\n",
       "    </tr>\n",
       "    <tr>\n",
       "      <th>1</th>\n",
       "      <td>2-99795-A-32.wav</td>\n",
       "      <td>0</td>\n",
       "      <td>N</td>\n",
       "      <td>N/2-99795-A-32.wav</td>\n",
       "    </tr>\n",
       "    <tr>\n",
       "      <th>2</th>\n",
       "      <td>10022_7.wav</td>\n",
       "      <td>1</td>\n",
       "      <td>C</td>\n",
       "      <td>C/10022_7.wav</td>\n",
       "    </tr>\n",
       "    <tr>\n",
       "      <th>3</th>\n",
       "      <td>5-205090-A-32.wav</td>\n",
       "      <td>0</td>\n",
       "      <td>N</td>\n",
       "      <td>N/5-205090-A-32.wav</td>\n",
       "    </tr>\n",
       "    <tr>\n",
       "      <th>4</th>\n",
       "      <td>2-141681-A-36.wav</td>\n",
       "      <td>0</td>\n",
       "      <td>N</td>\n",
       "      <td>N/2-141681-A-36.wav</td>\n",
       "    </tr>\n",
       "  </tbody>\n",
       "</table>\n",
       "</div>"
      ],
      "text/plain": [
       "            filename  target folder              dirname\n",
       "0             23.wav       1      C             C/23.wav\n",
       "1   2-99795-A-32.wav       0      N   N/2-99795-A-32.wav\n",
       "2        10022_7.wav       1      C        C/10022_7.wav\n",
       "3  5-205090-A-32.wav       0      N  N/5-205090-A-32.wav\n",
       "4  2-141681-A-36.wav       0      N  N/2-141681-A-36.wav"
      ]
     },
     "execution_count": 7,
     "metadata": {
      "tags": []
     },
     "output_type": "execute_result"
    }
   ],
   "source": [
    "final_data.head()"
   ]
  },
  {
   "cell_type": "code",
   "execution_count": 0,
   "metadata": {
    "colab": {},
    "colab_type": "code",
    "id": "VVLVLSWWfXo5"
   },
   "outputs": [],
   "source": [
    "base_path = \"/content/drive/My Drive/Data/\""
   ]
  },
  {
   "cell_type": "code",
   "execution_count": 0,
   "metadata": {
    "colab": {},
    "colab_type": "code",
    "id": "XAg5Xgjxd4UQ"
   },
   "outputs": [],
   "source": [
    "c = 0\n",
    "for i in range(len(final_data)):\n",
    "  filename = base_path + final_data['dirname'][i]\n",
    "  audio = AudioSegment.from_file(filename)\n",
    "  if(audio.duration_seconds!=4.0):\n",
    "    print(filename)\n",
    "    print(i)\n"
   ]
  },
  {
   "cell_type": "code",
   "execution_count": 0,
   "metadata": {
    "colab": {
     "base_uri": "https://localhost:8080/",
     "height": 1000
    },
    "colab_type": "code",
    "id": "L6DjrQhfd5Pa",
    "outputId": "d1525fba-0fff-44f1-b5a5-c2236664336b"
   },
   "outputs": [
    {
     "name": "stdout",
     "output_type": "stream",
     "text": [
      "0\n",
      "1\n",
      "2\n",
      "3\n",
      "4\n",
      "5\n",
      "6\n",
      "7\n",
      "8\n",
      "9\n",
      "10\n",
      "11\n",
      "12\n",
      "13\n",
      "14\n",
      "15\n",
      "16\n",
      "17\n",
      "18\n",
      "19\n",
      "20\n",
      "21\n",
      "22\n",
      "23\n",
      "24\n",
      "25\n",
      "26\n",
      "27\n",
      "28\n",
      "29\n",
      "30\n",
      "31\n",
      "32\n",
      "33\n",
      "34\n",
      "35\n",
      "36\n",
      "37\n",
      "38\n",
      "39\n",
      "40\n",
      "41\n",
      "42\n",
      "43\n",
      "44\n",
      "45\n",
      "46\n",
      "47\n",
      "48\n",
      "49\n",
      "50\n",
      "51\n",
      "52\n",
      "53\n",
      "54\n",
      "55\n",
      "56\n",
      "57\n",
      "58\n",
      "59\n",
      "60\n",
      "61\n",
      "62\n",
      "63\n",
      "64\n",
      "65\n",
      "66\n",
      "67\n",
      "68\n",
      "69\n",
      "70\n",
      "71\n",
      "72\n",
      "73\n",
      "74\n",
      "75\n",
      "76\n",
      "77\n",
      "78\n",
      "79\n",
      "80\n",
      "81\n",
      "82\n",
      "83\n",
      "84\n",
      "85\n",
      "86\n",
      "87\n",
      "88\n",
      "89\n",
      "90\n",
      "91\n",
      "92\n",
      "93\n",
      "94\n",
      "95\n",
      "96\n",
      "97\n",
      "98\n",
      "99\n",
      "100\n",
      "101\n",
      "102\n",
      "103\n",
      "104\n",
      "105\n",
      "106\n",
      "107\n",
      "108\n",
      "109\n",
      "110\n",
      "111\n",
      "112\n",
      "113\n",
      "114\n",
      "115\n",
      "116\n",
      "117\n",
      "118\n",
      "119\n",
      "120\n",
      "121\n",
      "122\n",
      "123\n",
      "124\n",
      "125\n",
      "126\n",
      "127\n",
      "128\n",
      "129\n",
      "130\n",
      "131\n",
      "132\n",
      "133\n",
      "134\n",
      "135\n",
      "136\n",
      "137\n",
      "138\n",
      "139\n",
      "140\n",
      "141\n",
      "142\n",
      "143\n",
      "144\n",
      "145\n",
      "146\n",
      "147\n",
      "148\n",
      "149\n",
      "150\n",
      "151\n",
      "152\n",
      "153\n",
      "154\n",
      "155\n",
      "156\n",
      "157\n",
      "158\n",
      "159\n",
      "160\n",
      "161\n",
      "162\n",
      "163\n",
      "164\n",
      "165\n",
      "166\n",
      "167\n",
      "168\n",
      "169\n",
      "170\n",
      "171\n",
      "172\n",
      "173\n",
      "174\n",
      "175\n",
      "176\n",
      "177\n",
      "178\n",
      "179\n",
      "180\n",
      "181\n",
      "182\n",
      "183\n",
      "184\n",
      "185\n",
      "186\n",
      "187\n",
      "188\n",
      "189\n",
      "190\n",
      "191\n",
      "192\n",
      "193\n",
      "194\n",
      "195\n",
      "196\n",
      "197\n",
      "198\n",
      "199\n",
      "200\n",
      "201\n",
      "202\n",
      "203\n",
      "204\n",
      "205\n",
      "206\n",
      "207\n",
      "208\n",
      "209\n",
      "210\n",
      "211\n",
      "212\n",
      "213\n",
      "214\n",
      "215\n",
      "216\n",
      "217\n",
      "218\n",
      "219\n",
      "220\n",
      "221\n",
      "222\n",
      "223\n",
      "224\n",
      "225\n",
      "226\n",
      "227\n",
      "228\n",
      "229\n",
      "230\n",
      "231\n",
      "232\n",
      "233\n",
      "234\n",
      "235\n",
      "236\n",
      "237\n",
      "238\n",
      "239\n",
      "240\n",
      "241\n",
      "242\n",
      "243\n",
      "244\n",
      "245\n",
      "246\n",
      "247\n",
      "248\n",
      "249\n",
      "250\n",
      "251\n",
      "252\n",
      "253\n",
      "254\n",
      "255\n",
      "256\n",
      "257\n",
      "258\n",
      "259\n",
      "260\n",
      "261\n",
      "262\n",
      "263\n",
      "264\n",
      "265\n",
      "266\n",
      "267\n",
      "268\n",
      "269\n",
      "270\n",
      "271\n",
      "272\n",
      "273\n",
      "274\n",
      "275\n",
      "276\n",
      "277\n",
      "278\n",
      "279\n",
      "280\n",
      "281\n",
      "282\n",
      "283\n",
      "284\n",
      "285\n",
      "286\n",
      "287\n",
      "288\n",
      "289\n",
      "290\n",
      "291\n",
      "292\n",
      "293\n",
      "294\n",
      "295\n",
      "296\n",
      "297\n",
      "298\n",
      "299\n",
      "300\n",
      "301\n",
      "302\n",
      "303\n",
      "304\n",
      "305\n",
      "306\n",
      "307\n"
     ]
    }
   ],
   "source": [
    "dataset = []\n",
    "for i in range(len(final_data)):\n",
    "  filename = base_path + final_data['dirname'][i]\n",
    "  y, sr = librosa.load(filename)\n",
    "  spect = librosa.feature.melspectrogram(y=y, sr=sr,n_fft=2048, hop_length=512)\n",
    "  spect = librosa.power_to_db(spect, ref=np.max)\n",
    "  dataset.append([spect,final_data['target'][i]])\n",
    "  print(i)\n"
   ]
  },
  {
   "cell_type": "code",
   "execution_count": 0,
   "metadata": {
    "colab": {},
    "colab_type": "code",
    "id": "g7CLfiL3d-Hy"
   },
   "outputs": [],
   "source": [
    "features_df = pd.DataFrame(dataset,columns = ['feature','class_label'])"
   ]
  },
  {
   "cell_type": "code",
   "execution_count": 0,
   "metadata": {
    "colab": {},
    "colab_type": "code",
    "id": "Zu6vtPfZJNLi"
   },
   "outputs": [],
   "source": [
    "features_df "
   ]
  },
  {
   "cell_type": "code",
   "execution_count": 0,
   "metadata": {
    "colab": {},
    "colab_type": "code",
    "id": "P2Hx5ii3eAVR"
   },
   "outputs": [],
   "source": [
    "X = np.array(features_df.feature.to_list())\n",
    "y = np.array(features_df.class_label.tolist())"
   ]
  },
  {
   "cell_type": "code",
   "execution_count": 0,
   "metadata": {
    "colab": {},
    "colab_type": "code",
    "id": "xdlHQWKBeD2O"
   },
   "outputs": [],
   "source": [
    "X = np.expand_dims(X, axis = -1)"
   ]
  },
  {
   "cell_type": "code",
   "execution_count": 0,
   "metadata": {
    "colab": {},
    "colab_type": "code",
    "id": "qSMkyK21eUK_"
   },
   "outputs": [],
   "source": [
    "new_y = to_categorical(y)"
   ]
  },
  {
   "cell_type": "code",
   "execution_count": 0,
   "metadata": {
    "colab": {},
    "colab_type": "code",
    "id": "iKMXWCeteIG2"
   },
   "outputs": [],
   "source": [
    "X_train, X_test, y_train, y_test = train_test_split(X,new_y,test_size = 0.2, random_state = 42)"
   ]
  },
  {
   "cell_type": "code",
   "execution_count": 0,
   "metadata": {
    "colab": {},
    "colab_type": "code",
    "id": "f8i8PesFeU-Z"
   },
   "outputs": [],
   "source": [
    "n_frames = 128\n",
    "n_frequency = 173\n",
    "input_shape = (n_frames, n_frequency, 1)"
   ]
  },
  {
   "cell_type": "code",
   "execution_count": 0,
   "metadata": {
    "colab": {},
    "colab_type": "code",
    "id": "b5R_GH9fedGO"
   },
   "outputs": [],
   "source": [
    "## ADD CHECKPOINTS PLEASE\n",
    "layer = Input(input_shape, name='input')\n",
    "\n",
    "### Convolutional blocks\n",
    "conv_1 = Conv2D(filters = 16, kernel_size = (3,1), strides=1,padding= 'valid', activation='relu', name='conv_1')(layer)\n",
    "pool_1 = MaxPooling2D((2,2))(conv_1)\n",
    "pool_1 = Dropout(0.1)(pool_1)\n",
    "\n",
    "conv_2 = Conv2D(filters = 32, kernel_size = (3,1), strides=1,padding= 'valid', activation='relu', name='conv_2')(pool_1)\n",
    "pool_2 = MaxPooling2D((2,2))(conv_2)\n",
    "pool_2 = Dropout(0.1)(pool_2)\n",
    "\n",
    "conv_3 = Conv2D(filters = 64, kernel_size = (3,1), strides=1,padding= 'valid', activation='relu', name='conv_3')(pool_2)\n",
    "pool_3 = MaxPooling2D((2,2))(conv_3)\n",
    "pool_3 = Dropout(0.2)(pool_3)\n",
    "\n",
    "conv_4 = Conv2D(filters = 64, kernel_size = (3,1), strides=1,padding= 'valid', activation='relu', name='conv_4')(pool_3)\n",
    "pool_4 = MaxPooling2D((2,2))(conv_4)\n",
    "pool_4 = Dropout(0.2)(pool_4)\n",
    "\n",
    "conv_5 = Conv2D(filters = 64, kernel_size = (3,1), strides=1,padding= 'valid', activation='relu', name='conv_5')(pool_4)\n",
    "pool_5 = MaxPooling2D((2,2))(conv_5)\n",
    "pool_5 = Dropout(0.2)(pool_5)\n",
    "\n",
    "flatten1 = Flatten()(pool_5)\n",
    "### Recurrent Block\n",
    "\n",
    "# Pooling layer\n",
    "pool_lstm1 = MaxPooling2D((2,2), name = 'pool_lstm')(layer)\n",
    "\n",
    "# Embedding layer\n",
    "squeezed = Lambda(lambda x: K.squeeze(x, axis= -1))(pool_lstm1)\n",
    "\n",
    "\n",
    "# Bidirectional GRU\n",
    "lstm = Bidirectional(GRU(64))(squeezed)  #default merge mode is concat\n",
    "\n",
    "# Concat Output\n",
    "concat = concatenate([flatten1, lstm], axis=-1, name ='concat')\n",
    "\n",
    "## Softmax Output\n",
    "output = Dense(2, activation = 'softmax', name='preds')(concat)\n",
    "\n",
    "model_output = output\n",
    "model = Model(layer, model_output)\n",
    "\n",
    "#     opt = Adam(lr=0.001)\n",
    "opt = RMSprop(lr=0.0005)  # Optimizer\n",
    "model.compile(loss='categorical_crossentropy',optimizer=opt,metrics=['accuracy'])"
   ]
  },
  {
   "cell_type": "code",
   "execution_count": 0,
   "metadata": {
    "colab": {
     "base_uri": "https://localhost:8080/",
     "height": 907
    },
    "colab_type": "code",
    "id": "Rah23C3geg9H",
    "outputId": "b7022342-b7a6-41bd-e8f1-958590e7d759"
   },
   "outputs": [
    {
     "name": "stdout",
     "output_type": "stream",
     "text": [
      "Model: \"model_1\"\n",
      "__________________________________________________________________________________________________\n",
      "Layer (type)                    Output Shape         Param #     Connected to                     \n",
      "==================================================================================================\n",
      "input (InputLayer)              (None, 128, 173, 1)  0                                            \n",
      "__________________________________________________________________________________________________\n",
      "conv_1 (Conv2D)                 (None, 126, 173, 16) 64          input[0][0]                      \n",
      "__________________________________________________________________________________________________\n",
      "max_pooling2d_1 (MaxPooling2D)  (None, 63, 86, 16)   0           conv_1[0][0]                     \n",
      "__________________________________________________________________________________________________\n",
      "dropout_1 (Dropout)             (None, 63, 86, 16)   0           max_pooling2d_1[0][0]            \n",
      "__________________________________________________________________________________________________\n",
      "conv_2 (Conv2D)                 (None, 61, 86, 32)   1568        dropout_1[0][0]                  \n",
      "__________________________________________________________________________________________________\n",
      "max_pooling2d_2 (MaxPooling2D)  (None, 30, 43, 32)   0           conv_2[0][0]                     \n",
      "__________________________________________________________________________________________________\n",
      "dropout_2 (Dropout)             (None, 30, 43, 32)   0           max_pooling2d_2[0][0]            \n",
      "__________________________________________________________________________________________________\n",
      "conv_3 (Conv2D)                 (None, 28, 43, 64)   6208        dropout_2[0][0]                  \n",
      "__________________________________________________________________________________________________\n",
      "max_pooling2d_3 (MaxPooling2D)  (None, 14, 21, 64)   0           conv_3[0][0]                     \n",
      "__________________________________________________________________________________________________\n",
      "dropout_3 (Dropout)             (None, 14, 21, 64)   0           max_pooling2d_3[0][0]            \n",
      "__________________________________________________________________________________________________\n",
      "conv_4 (Conv2D)                 (None, 12, 21, 64)   12352       dropout_3[0][0]                  \n",
      "__________________________________________________________________________________________________\n",
      "max_pooling2d_4 (MaxPooling2D)  (None, 6, 10, 64)    0           conv_4[0][0]                     \n",
      "__________________________________________________________________________________________________\n",
      "dropout_4 (Dropout)             (None, 6, 10, 64)    0           max_pooling2d_4[0][0]            \n",
      "__________________________________________________________________________________________________\n",
      "conv_5 (Conv2D)                 (None, 4, 10, 64)    12352       dropout_4[0][0]                  \n",
      "__________________________________________________________________________________________________\n",
      "max_pooling2d_5 (MaxPooling2D)  (None, 2, 5, 64)     0           conv_5[0][0]                     \n",
      "__________________________________________________________________________________________________\n",
      "pool_lstm (MaxPooling2D)        (None, 64, 86, 1)    0           input[0][0]                      \n",
      "__________________________________________________________________________________________________\n",
      "dropout_5 (Dropout)             (None, 2, 5, 64)     0           max_pooling2d_5[0][0]            \n",
      "__________________________________________________________________________________________________\n",
      "lambda_1 (Lambda)               (None, 64, 86)       0           pool_lstm[0][0]                  \n",
      "__________________________________________________________________________________________________\n",
      "flatten_1 (Flatten)             (None, 640)          0           dropout_5[0][0]                  \n",
      "__________________________________________________________________________________________________\n",
      "bidirectional_1 (Bidirectional) (None, 128)          57984       lambda_1[0][0]                   \n",
      "__________________________________________________________________________________________________\n",
      "concat (Concatenate)            (None, 768)          0           flatten_1[0][0]                  \n",
      "                                                                 bidirectional_1[0][0]            \n",
      "__________________________________________________________________________________________________\n",
      "preds (Dense)                   (None, 2)            1538        concat[0][0]                     \n",
      "==================================================================================================\n",
      "Total params: 92,066\n",
      "Trainable params: 92,066\n",
      "Non-trainable params: 0\n",
      "__________________________________________________________________________________________________\n"
     ]
    }
   ],
   "source": [
    "model.summary()"
   ]
  },
  {
   "cell_type": "code",
   "execution_count": 0,
   "metadata": {
    "colab": {
     "base_uri": "https://localhost:8080/",
     "height": 1000
    },
    "colab_type": "code",
    "id": "i_KjhptGelSR",
    "outputId": "eee7ce0f-7603-4751-8bb5-9abfb4dc9843"
   },
   "outputs": [
    {
     "name": "stdout",
     "output_type": "stream",
     "text": [
      "Train on 1117 samples, validate on 280 samples\n",
      "Epoch 1/100\n",
      "1117/1117 [==============================] - 25s 23ms/step - loss: 0.7129 - accuracy: 0.6500 - val_loss: 0.4460 - val_accuracy: 0.8036\n",
      "Epoch 2/100\n",
      "1117/1117 [==============================] - 18s 16ms/step - loss: 0.3951 - accuracy: 0.8236 - val_loss: 0.4467 - val_accuracy: 0.7250\n",
      "Epoch 3/100\n",
      "1117/1117 [==============================] - 19s 17ms/step - loss: 0.3549 - accuracy: 0.8505 - val_loss: 0.3606 - val_accuracy: 0.8714\n",
      "Epoch 4/100\n",
      "1117/1117 [==============================] - 18s 16ms/step - loss: 0.3294 - accuracy: 0.8675 - val_loss: 0.3610 - val_accuracy: 0.8500\n",
      "Epoch 5/100\n",
      "1117/1117 [==============================] - 18s 17ms/step - loss: 0.3183 - accuracy: 0.8612 - val_loss: 0.3483 - val_accuracy: 0.8643\n",
      "Epoch 6/100\n",
      "1117/1117 [==============================] - 18s 16ms/step - loss: 0.2892 - accuracy: 0.8791 - val_loss: 0.3220 - val_accuracy: 0.8643\n",
      "Epoch 7/100\n",
      "1117/1117 [==============================] - 18s 17ms/step - loss: 0.2638 - accuracy: 0.8979 - val_loss: 0.2590 - val_accuracy: 0.9250\n",
      "Epoch 8/100\n",
      "1117/1117 [==============================] - 19s 17ms/step - loss: 0.2649 - accuracy: 0.9114 - val_loss: 0.2841 - val_accuracy: 0.8607\n",
      "Epoch 9/100\n",
      "1117/1117 [==============================] - 18s 16ms/step - loss: 0.2410 - accuracy: 0.9042 - val_loss: 0.2139 - val_accuracy: 0.9429\n",
      "Epoch 10/100\n",
      "1117/1117 [==============================] - 19s 17ms/step - loss: 0.2387 - accuracy: 0.9087 - val_loss: 0.2113 - val_accuracy: 0.9357\n",
      "Epoch 11/100\n",
      "1117/1117 [==============================] - 18s 16ms/step - loss: 0.2293 - accuracy: 0.9150 - val_loss: 0.1713 - val_accuracy: 0.9464\n",
      "Epoch 12/100\n",
      "1117/1117 [==============================] - 18s 16ms/step - loss: 0.2163 - accuracy: 0.9221 - val_loss: 0.2556 - val_accuracy: 0.8714\n",
      "Epoch 13/100\n",
      "1117/1117 [==============================] - 19s 17ms/step - loss: 0.2039 - accuracy: 0.9284 - val_loss: 0.1573 - val_accuracy: 0.9571\n",
      "Epoch 14/100\n",
      "1117/1117 [==============================] - 19s 17ms/step - loss: 0.2059 - accuracy: 0.9230 - val_loss: 0.1829 - val_accuracy: 0.9214\n",
      "Epoch 15/100\n",
      "1117/1117 [==============================] - 20s 18ms/step - loss: 0.1869 - accuracy: 0.9329 - val_loss: 0.1207 - val_accuracy: 0.9643\n",
      "Epoch 16/100\n",
      "1117/1117 [==============================] - 20s 18ms/step - loss: 0.1758 - accuracy: 0.9257 - val_loss: 0.1270 - val_accuracy: 0.9786\n",
      "Epoch 17/100\n",
      "1117/1117 [==============================] - 20s 18ms/step - loss: 0.1844 - accuracy: 0.9346 - val_loss: 0.1209 - val_accuracy: 0.9607\n",
      "Epoch 18/100\n",
      "1117/1117 [==============================] - 20s 18ms/step - loss: 0.1812 - accuracy: 0.9266 - val_loss: 0.1249 - val_accuracy: 0.9714\n",
      "Epoch 19/100\n",
      "1117/1117 [==============================] - 20s 18ms/step - loss: 0.1690 - accuracy: 0.9391 - val_loss: 0.1089 - val_accuracy: 0.9821\n",
      "Epoch 20/100\n",
      "1117/1117 [==============================] - 21s 19ms/step - loss: 0.1663 - accuracy: 0.9338 - val_loss: 0.1123 - val_accuracy: 0.9607\n",
      "Epoch 21/100\n",
      "1117/1117 [==============================] - 21s 19ms/step - loss: 0.1589 - accuracy: 0.9382 - val_loss: 0.1483 - val_accuracy: 0.9536\n",
      "Epoch 22/100\n",
      "1117/1117 [==============================] - 21s 18ms/step - loss: 0.1682 - accuracy: 0.9427 - val_loss: 0.1114 - val_accuracy: 0.9536\n",
      "Epoch 23/100\n",
      "1117/1117 [==============================] - 21s 18ms/step - loss: 0.1695 - accuracy: 0.9382 - val_loss: 0.1213 - val_accuracy: 0.9643\n",
      "Epoch 24/100\n",
      "1117/1117 [==============================] - 20s 18ms/step - loss: 0.1683 - accuracy: 0.9346 - val_loss: 0.1135 - val_accuracy: 0.9607\n",
      "Epoch 25/100\n",
      "1117/1117 [==============================] - 19s 17ms/step - loss: 0.1540 - accuracy: 0.9418 - val_loss: 0.1868 - val_accuracy: 0.9107\n",
      "Epoch 26/100\n",
      "1117/1117 [==============================] - 19s 17ms/step - loss: 0.1480 - accuracy: 0.9409 - val_loss: 0.0971 - val_accuracy: 0.9714\n",
      "Epoch 27/100\n",
      "1117/1117 [==============================] - 19s 17ms/step - loss: 0.1577 - accuracy: 0.9499 - val_loss: 0.1515 - val_accuracy: 0.9357\n",
      "Epoch 28/100\n",
      "1117/1117 [==============================] - 19s 17ms/step - loss: 0.1287 - accuracy: 0.9481 - val_loss: 0.1003 - val_accuracy: 0.9679\n",
      "Epoch 29/100\n",
      "1117/1117 [==============================] - 19s 17ms/step - loss: 0.1398 - accuracy: 0.9526 - val_loss: 0.1002 - val_accuracy: 0.9750\n",
      "Epoch 30/100\n",
      "1117/1117 [==============================] - 19s 17ms/step - loss: 0.1348 - accuracy: 0.9606 - val_loss: 0.0870 - val_accuracy: 0.9750\n",
      "Epoch 31/100\n",
      "1117/1117 [==============================] - 19s 17ms/step - loss: 0.1372 - accuracy: 0.9427 - val_loss: 0.0949 - val_accuracy: 0.9714\n",
      "Epoch 32/100\n",
      "1117/1117 [==============================] - 19s 17ms/step - loss: 0.1254 - accuracy: 0.9481 - val_loss: 0.1174 - val_accuracy: 0.9536\n",
      "Epoch 33/100\n",
      "1117/1117 [==============================] - 19s 17ms/step - loss: 0.1227 - accuracy: 0.9552 - val_loss: 0.0781 - val_accuracy: 0.9786\n",
      "Epoch 34/100\n",
      "1117/1117 [==============================] - 19s 17ms/step - loss: 0.1135 - accuracy: 0.9508 - val_loss: 0.0807 - val_accuracy: 0.9750\n",
      "Epoch 35/100\n",
      "1117/1117 [==============================] - 19s 17ms/step - loss: 0.1184 - accuracy: 0.9597 - val_loss: 0.0965 - val_accuracy: 0.9679\n",
      "Epoch 36/100\n",
      "1117/1117 [==============================] - 19s 17ms/step - loss: 0.1137 - accuracy: 0.9561 - val_loss: 0.0997 - val_accuracy: 0.9500\n",
      "Epoch 37/100\n",
      "1117/1117 [==============================] - 19s 17ms/step - loss: 0.1129 - accuracy: 0.9561 - val_loss: 0.0826 - val_accuracy: 0.9714\n",
      "Epoch 38/100\n",
      "1117/1117 [==============================] - 19s 17ms/step - loss: 0.1104 - accuracy: 0.9579 - val_loss: 0.0940 - val_accuracy: 0.9750\n",
      "Epoch 39/100\n",
      "1117/1117 [==============================] - 19s 17ms/step - loss: 0.1056 - accuracy: 0.9633 - val_loss: 0.1434 - val_accuracy: 0.9357\n",
      "Epoch 40/100\n",
      "1117/1117 [==============================] - 19s 17ms/step - loss: 0.1123 - accuracy: 0.9633 - val_loss: 0.0890 - val_accuracy: 0.9679\n",
      "Epoch 41/100\n",
      "1117/1117 [==============================] - 19s 17ms/step - loss: 0.0929 - accuracy: 0.9615 - val_loss: 0.0803 - val_accuracy: 0.9714\n",
      "Epoch 42/100\n",
      "1117/1117 [==============================] - 19s 17ms/step - loss: 0.1052 - accuracy: 0.9624 - val_loss: 0.0929 - val_accuracy: 0.9607\n",
      "Epoch 43/100\n",
      "1117/1117 [==============================] - 19s 17ms/step - loss: 0.0827 - accuracy: 0.9705 - val_loss: 0.0705 - val_accuracy: 0.9679\n",
      "Epoch 44/100\n",
      "1117/1117 [==============================] - 19s 17ms/step - loss: 0.0912 - accuracy: 0.9606 - val_loss: 0.0701 - val_accuracy: 0.9643\n",
      "Epoch 45/100\n",
      "1117/1117 [==============================] - 19s 17ms/step - loss: 0.0902 - accuracy: 0.9651 - val_loss: 0.0643 - val_accuracy: 0.9643\n",
      "Epoch 46/100\n",
      "1117/1117 [==============================] - 19s 17ms/step - loss: 0.0997 - accuracy: 0.9624 - val_loss: 0.0951 - val_accuracy: 0.9571\n",
      "Epoch 47/100\n",
      "1117/1117 [==============================] - 19s 17ms/step - loss: 0.0817 - accuracy: 0.9651 - val_loss: 0.0743 - val_accuracy: 0.9714\n",
      "Epoch 48/100\n",
      "1117/1117 [==============================] - 19s 17ms/step - loss: 0.0842 - accuracy: 0.9696 - val_loss: 0.0662 - val_accuracy: 0.9714\n",
      "Epoch 49/100\n",
      "1117/1117 [==============================] - 18s 16ms/step - loss: 0.0839 - accuracy: 0.9705 - val_loss: 0.0902 - val_accuracy: 0.9607\n",
      "Epoch 50/100\n",
      "1117/1117 [==============================] - 18s 17ms/step - loss: 0.0750 - accuracy: 0.9678 - val_loss: 0.0710 - val_accuracy: 0.9679\n",
      "Epoch 51/100\n",
      "1117/1117 [==============================] - 19s 17ms/step - loss: 0.0789 - accuracy: 0.9642 - val_loss: 0.0886 - val_accuracy: 0.9571\n",
      "Epoch 52/100\n",
      "1117/1117 [==============================] - 19s 17ms/step - loss: 0.0756 - accuracy: 0.9767 - val_loss: 0.0775 - val_accuracy: 0.9607\n",
      "Epoch 53/100\n",
      "1117/1117 [==============================] - 19s 17ms/step - loss: 0.0645 - accuracy: 0.9731 - val_loss: 0.0863 - val_accuracy: 0.9607\n",
      "Epoch 54/100\n",
      "1117/1117 [==============================] - 18s 16ms/step - loss: 0.0696 - accuracy: 0.9749 - val_loss: 0.0605 - val_accuracy: 0.9786\n",
      "Epoch 55/100\n",
      "1117/1117 [==============================] - 18s 16ms/step - loss: 0.0726 - accuracy: 0.9749 - val_loss: 0.2059 - val_accuracy: 0.9000\n",
      "Epoch 56/100\n",
      "1117/1117 [==============================] - 19s 17ms/step - loss: 0.0849 - accuracy: 0.9642 - val_loss: 0.0652 - val_accuracy: 0.9714\n",
      "Epoch 57/100\n",
      "1117/1117 [==============================] - 18s 16ms/step - loss: 0.0651 - accuracy: 0.9758 - val_loss: 0.0620 - val_accuracy: 0.9714\n",
      "Epoch 58/100\n",
      "1117/1117 [==============================] - 18s 17ms/step - loss: 0.0617 - accuracy: 0.9731 - val_loss: 0.0660 - val_accuracy: 0.9643\n",
      "Epoch 59/100\n",
      "1117/1117 [==============================] - 18s 17ms/step - loss: 0.0604 - accuracy: 0.9740 - val_loss: 0.0640 - val_accuracy: 0.9643\n",
      "Epoch 60/100\n",
      "1117/1117 [==============================] - 18s 16ms/step - loss: 0.0580 - accuracy: 0.9803 - val_loss: 0.0829 - val_accuracy: 0.9607\n",
      "Epoch 61/100\n",
      "1117/1117 [==============================] - 18s 16ms/step - loss: 0.0672 - accuracy: 0.9722 - val_loss: 0.0595 - val_accuracy: 0.9786\n",
      "Epoch 62/100\n",
      "1117/1117 [==============================] - 18s 16ms/step - loss: 0.0642 - accuracy: 0.9714 - val_loss: 0.0934 - val_accuracy: 0.9607\n",
      "Epoch 63/100\n",
      "1117/1117 [==============================] - 18s 17ms/step - loss: 0.0472 - accuracy: 0.9785 - val_loss: 0.0891 - val_accuracy: 0.9714\n",
      "Epoch 64/100\n",
      "1117/1117 [==============================] - 18s 16ms/step - loss: 0.0556 - accuracy: 0.9785 - val_loss: 0.0800 - val_accuracy: 0.9714\n",
      "Epoch 65/100\n",
      "1117/1117 [==============================] - 19s 17ms/step - loss: 0.0572 - accuracy: 0.9749 - val_loss: 0.0652 - val_accuracy: 0.9643\n",
      "Epoch 66/100\n",
      "1117/1117 [==============================] - 18s 16ms/step - loss: 0.0499 - accuracy: 0.9830 - val_loss: 0.0689 - val_accuracy: 0.9679\n",
      "Epoch 67/100\n",
      "1117/1117 [==============================] - 18s 16ms/step - loss: 0.0441 - accuracy: 0.9866 - val_loss: 0.0735 - val_accuracy: 0.9571\n",
      "Epoch 68/100\n",
      "1117/1117 [==============================] - 18s 16ms/step - loss: 0.0509 - accuracy: 0.9803 - val_loss: 0.0540 - val_accuracy: 0.9679\n",
      "Epoch 69/100\n",
      "1117/1117 [==============================] - 18s 16ms/step - loss: 0.0531 - accuracy: 0.9794 - val_loss: 0.0671 - val_accuracy: 0.9750\n",
      "Epoch 70/100\n",
      "1117/1117 [==============================] - 18s 16ms/step - loss: 0.0502 - accuracy: 0.9866 - val_loss: 0.0909 - val_accuracy: 0.9643\n",
      "Epoch 71/100\n",
      "1117/1117 [==============================] - 18s 16ms/step - loss: 0.0505 - accuracy: 0.9857 - val_loss: 0.0560 - val_accuracy: 0.9750\n",
      "Epoch 72/100\n",
      "1117/1117 [==============================] - 18s 16ms/step - loss: 0.0435 - accuracy: 0.9821 - val_loss: 0.0534 - val_accuracy: 0.9821\n",
      "Epoch 73/100\n",
      "1117/1117 [==============================] - 19s 17ms/step - loss: 0.0402 - accuracy: 0.9848 - val_loss: 0.0573 - val_accuracy: 0.9750\n",
      "Epoch 74/100\n",
      "1117/1117 [==============================] - 18s 16ms/step - loss: 0.0409 - accuracy: 0.9857 - val_loss: 0.0722 - val_accuracy: 0.9714\n",
      "Epoch 75/100\n",
      "1117/1117 [==============================] - 18s 16ms/step - loss: 0.0479 - accuracy: 0.9803 - val_loss: 0.1081 - val_accuracy: 0.9536\n",
      "Epoch 76/100\n",
      "1117/1117 [==============================] - 18s 16ms/step - loss: 0.0389 - accuracy: 0.9866 - val_loss: 0.1280 - val_accuracy: 0.9464\n",
      "Epoch 77/100\n",
      "1117/1117 [==============================] - 18s 17ms/step - loss: 0.0453 - accuracy: 0.9830 - val_loss: 0.1026 - val_accuracy: 0.9571\n",
      "Epoch 78/100\n",
      "1117/1117 [==============================] - 18s 16ms/step - loss: 0.0338 - accuracy: 0.9866 - val_loss: 0.0604 - val_accuracy: 0.9714\n",
      "Epoch 79/100\n",
      "1117/1117 [==============================] - 18s 16ms/step - loss: 0.0290 - accuracy: 0.9902 - val_loss: 0.1641 - val_accuracy: 0.9429\n",
      "Epoch 80/100\n",
      "1117/1117 [==============================] - 18s 16ms/step - loss: 0.0385 - accuracy: 0.9893 - val_loss: 0.0520 - val_accuracy: 0.9750\n",
      "Epoch 81/100\n",
      "1117/1117 [==============================] - 18s 16ms/step - loss: 0.0256 - accuracy: 0.9919 - val_loss: 0.0578 - val_accuracy: 0.9643\n",
      "Epoch 82/100\n",
      "1117/1117 [==============================] - 19s 17ms/step - loss: 0.0421 - accuracy: 0.9866 - val_loss: 0.0573 - val_accuracy: 0.9750\n",
      "Epoch 83/100\n",
      "1117/1117 [==============================] - 18s 16ms/step - loss: 0.0527 - accuracy: 0.9812 - val_loss: 0.0802 - val_accuracy: 0.9750\n",
      "Epoch 84/100\n",
      "1117/1117 [==============================] - 18s 16ms/step - loss: 0.0217 - accuracy: 0.9946 - val_loss: 0.0529 - val_accuracy: 0.9821\n",
      "Epoch 85/100\n",
      "1117/1117 [==============================] - 18s 16ms/step - loss: 0.0350 - accuracy: 0.9884 - val_loss: 0.0765 - val_accuracy: 0.9714\n",
      "Epoch 86/100\n",
      "1117/1117 [==============================] - 18s 16ms/step - loss: 0.0343 - accuracy: 0.9893 - val_loss: 0.0757 - val_accuracy: 0.9714\n",
      "Epoch 87/100\n",
      "1117/1117 [==============================] - 18s 16ms/step - loss: 0.0279 - accuracy: 0.9910 - val_loss: 0.0610 - val_accuracy: 0.9643\n",
      "Epoch 88/100\n",
      "1117/1117 [==============================] - 18s 16ms/step - loss: 0.0368 - accuracy: 0.9875 - val_loss: 0.0503 - val_accuracy: 0.9786\n",
      "Epoch 89/100\n",
      "1117/1117 [==============================] - 18s 16ms/step - loss: 0.0383 - accuracy: 0.9866 - val_loss: 0.0663 - val_accuracy: 0.9679\n",
      "Epoch 90/100\n",
      "1117/1117 [==============================] - 18s 16ms/step - loss: 0.0256 - accuracy: 0.9902 - val_loss: 0.1131 - val_accuracy: 0.9607\n",
      "Epoch 91/100\n",
      "1117/1117 [==============================] - 18s 16ms/step - loss: 0.0354 - accuracy: 0.9902 - val_loss: 0.1142 - val_accuracy: 0.9536\n",
      "Epoch 92/100\n",
      "1117/1117 [==============================] - 18s 16ms/step - loss: 0.0256 - accuracy: 0.9910 - val_loss: 0.1124 - val_accuracy: 0.9607\n",
      "Epoch 93/100\n",
      "1117/1117 [==============================] - 18s 16ms/step - loss: 0.0452 - accuracy: 0.9830 - val_loss: 0.0739 - val_accuracy: 0.9679\n",
      "Epoch 94/100\n",
      "1117/1117 [==============================] - 18s 16ms/step - loss: 0.0361 - accuracy: 0.9910 - val_loss: 0.0554 - val_accuracy: 0.9750\n",
      "Epoch 95/100\n",
      "1117/1117 [==============================] - 18s 16ms/step - loss: 0.0221 - accuracy: 0.9893 - val_loss: 0.0739 - val_accuracy: 0.9679\n",
      "Epoch 96/100\n",
      "1117/1117 [==============================] - 18s 16ms/step - loss: 0.0283 - accuracy: 0.9902 - val_loss: 0.1061 - val_accuracy: 0.9643\n",
      "Epoch 97/100\n",
      "1117/1117 [==============================] - 18s 16ms/step - loss: 0.0194 - accuracy: 0.9946 - val_loss: 0.1067 - val_accuracy: 0.9643\n",
      "Epoch 98/100\n",
      "1117/1117 [==============================] - 18s 16ms/step - loss: 0.0320 - accuracy: 0.9866 - val_loss: 0.0532 - val_accuracy: 0.9750\n",
      "Epoch 99/100\n",
      "1117/1117 [==============================] - 18s 16ms/step - loss: 0.0218 - accuracy: 0.9937 - val_loss: 0.1450 - val_accuracy: 0.9536\n",
      "Epoch 100/100\n",
      "1117/1117 [==============================] - 18s 16ms/step - loss: 0.0210 - accuracy: 0.9946 - val_loss: 0.0806 - val_accuracy: 0.9714\n"
     ]
    }
   ],
   "source": [
    "history = model.fit(X_train, y_train, batch_size=16, epochs=100,\n",
    "                        validation_data=(X_test, y_test), verbose=1)"
   ]
  },
  {
   "cell_type": "code",
   "execution_count": 0,
   "metadata": {
    "colab": {
     "base_uri": "https://localhost:8080/",
     "height": 295
    },
    "colab_type": "code",
    "id": "rQBbBSjleqMO",
    "outputId": "5be88f62-ffd9-431d-aa5a-20fc93198e7a"
   },
   "outputs": [
    {
     "data": {
      "image/png": "[encoded data removed]",
      "text/plain": [
       "<Figure size 432x288 with 1 Axes>"
      ]
     },
     "metadata": {
      "needs_background": "light",
      "tags": []
     },
     "output_type": "display_data"
    }
   ],
   "source": [
    "plt.plot(history.history['loss'])\n",
    "plt.plot(history.history['val_loss'])\n",
    "plt.title('model loss')\n",
    "plt.ylabel('loss')\n",
    "plt.xlabel('epoch')\n",
    "plt.legend(['train', 'test'], loc='upper left')\n",
    "plt.show()"
   ]
  },
  {
   "cell_type": "code",
   "execution_count": 0,
   "metadata": {
    "colab": {
     "base_uri": "https://localhost:8080/",
     "height": 295
    },
    "colab_type": "code",
    "id": "JE-slymAerJJ",
    "outputId": "39aa9c5f-7a5e-4efd-9e6c-a0816feb0125"
   },
   "outputs": [
    {
     "data": {
      "image/png": "[encoded data removed]",
      "text/plain": [
       "<Figure size 432x288 with 1 Axes>"
      ]
     },
     "metadata": {
      "needs_background": "light",
      "tags": []
     },
     "output_type": "display_data"
    }
   ],
   "source": [
    "plt.plot(history.history['accuracy'])\n",
    "plt.plot(history.history['val_accuracy'])\n",
    "plt.title('model accuracy')\n",
    "plt.ylabel('accuracy')\n",
    "plt.xlabel('epoch')\n",
    "plt.legend(['train', 'test'], loc='upper left')\n",
    "plt.show()"
   ]
  },
  {
   "cell_type": "code",
   "execution_count": 0,
   "metadata": {
    "colab": {},
    "colab_type": "code",
    "id": "GpC9gvQehTFG"
   },
   "outputs": [],
   "source": [
    "model.save('/content/drive/My Drive/Data/updated_model.h5')"
   ]
  },
  {
   "cell_type": "code",
   "execution_count": 0,
   "metadata": {
    "colab": {},
    "colab_type": "code",
    "id": "UKprIcI9zHW9"
   },
   "outputs": [],
   "source": []
  },
  {
   "cell_type": "markdown",
   "metadata": {
    "colab_type": "text",
    "id": "8qWhh7txx4Ck"
   },
   "source": [
    "# Data "
   ]
  },
  {
   "cell_type": "code",
   "execution_count": 0,
   "metadata": {
    "colab": {},
    "colab_type": "code",
    "id": "dRLlGirJx7ZN"
   },
   "outputs": [],
   "source": [
    "#Change paths and stuff accordingly \n",
    "base_path = '/content/drive/My Drive/Data/N'\n",
    "file_path = '/content/LibriSpeech/test-clean/8230/279154'\n",
    "\n",
    "for a in os.listdir(file_path):\n",
    "  if a.endswith('.flac'):\n",
    "    newAudio = AudioSegment.from_file(file_path + '/' + a)\n",
    "  z = len(newAudio)\n",
    "  t1 = 1 * 1000\n",
    "  t2 = 5 * 1000\n",
    "  for i in range((z//5000) - 1):\n",
    "    Audio = newAudio[t1:t2]\n",
    "    Audio.export(base_path + '/' + os.path.splitext(os.path.basename(a))[0] + '_' + str(i) + '.wav', format=\"wav\")\n",
    "    t1 = t1 + 5000\n",
    "    t2 = t2 + 5000"
   ]
  }
 ],
 "metadata": {
  "accelerator": "GPU",
  "colab": {
   "name": "Untitled2.ipynb",
   "provenance": []
  },
  "kernelspec": {
   "display_name": "Python 3",
   "language": "python",
   "name": "python3"
  },
  "language_info": {
   "codemirror_mode": {
    "name": "ipython",
    "version": 3
   },
   "file_extension": ".py",
   "mimetype": "text/x-python",
   "name": "python",
   "nbconvert_exporter": "python",
   "pygments_lexer": "ipython3",
   "version": "3.7.3"
  }
 },
 "nbformat": 4,
 "nbformat_minor": 1
}
